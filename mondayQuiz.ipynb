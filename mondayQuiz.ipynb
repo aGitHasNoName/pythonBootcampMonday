{
 "cells": [
  {
   "cell_type": "markdown",
   "metadata": {},
   "source": [
    "# Monday Quiz"
   ]
  },
  {
   "cell_type": "markdown",
   "metadata": {},
   "source": [
    "The quiz is short and combines topics covered in both the lecture and homeworks. If you are struggling, go back through the other notebooks to look for the answers. The quiz is designed to test how well you're learning to put code together more than just if you remember the right operators and functions, so don't be ashamed to look things up. Try to spend as much time as you can to figure out a correct answer before you look at the answer key."
   ]
  },
  {
   "cell_type": "markdown",
   "metadata": {},
   "source": [
    "1. Create a variable called `cube` that stores the value of 9 raised to the power of 3. Then write code to print `cube`:"
   ]
  },
  {
   "cell_type": "code",
   "execution_count": null,
   "metadata": {},
   "outputs": [],
   "source": []
  },
  {
   "cell_type": "markdown",
   "metadata": {},
   "source": [
    "2. Write code to change the variable `birthday` to a string:"
   ]
  },
  {
   "cell_type": "code",
   "execution_count": null,
   "metadata": {},
   "outputs": [],
   "source": [
    "birthday = 12071989\n",
    "birthday_string = \n",
    "print(birthday_string)"
   ]
  },
  {
   "cell_type": "markdown",
   "metadata": {},
   "source": [
    "3. Would the following code evaluate to True or False?\n",
    "<br>`not 4 == 4 or not 4 < 5`"
   ]
  },
  {
   "cell_type": "markdown",
   "metadata": {},
   "source": []
  },
  {
   "cell_type": "markdown",
   "metadata": {},
   "source": [
    "4. Write code to create a new string that combines line_1 and line_2 with a new line character in the middle:"
   ]
  },
  {
   "cell_type": "code",
   "execution_count": null,
   "metadata": {},
   "outputs": [],
   "source": [
    "line_1 = \"Hold fast to dreams\"\n",
    "line_2 = \"For if dreams die\"\n",
    "new_string = \n",
    "print(new_string)"
   ]
  },
  {
   "cell_type": "markdown",
   "metadata": {},
   "source": [
    "5. Write code to index the substring \"midnight\" from the following string:"
   ]
  },
  {
   "cell_type": "code",
   "execution_count": null,
   "metadata": {},
   "outputs": [],
   "source": [
    "raven = \"Once upon a midnight dreary,\"\n",
    "substring = \n",
    "print(substring)"
   ]
  },
  {
   "cell_type": "markdown",
   "metadata": {},
   "source": [
    "6. In one line of code, remove the question mark from the end of this sentence and change the sentence to capitalize only the first letter of the sentence:"
   ]
  },
  {
   "cell_type": "code",
   "execution_count": null,
   "metadata": {},
   "outputs": [],
   "source": [
    "sentence = \"THIS IS THE LAST QUESTION?\"\n",
    "new_sentence = \n",
    "print(new_sentence)"
   ]
  }
 ],
 "metadata": {
  "kernelspec": {
   "display_name": "Python 3",
   "language": "python",
   "name": "python3"
  },
  "language_info": {
   "codemirror_mode": {
    "name": "ipython",
    "version": 3
   },
   "file_extension": ".py",
   "mimetype": "text/x-python",
   "name": "python",
   "nbconvert_exporter": "python",
   "pygments_lexer": "ipython3",
   "version": "3.7.3"
  }
 },
 "nbformat": 4,
 "nbformat_minor": 4
}
